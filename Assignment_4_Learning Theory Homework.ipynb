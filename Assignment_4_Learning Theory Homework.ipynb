{
 "cells": [
  {
   "cell_type": "markdown",
   "metadata": {},
   "source": []
  },
  {
   "cell_type": "markdown",
   "metadata": {},
   "source": [
    "**A**: Notice that there a finite number of concepts in $C$.  In the consistent case we can then use the bound \n",
    "\n",
    "$$\n",
    "m \\geq \\frac{1}{\\epsilon}\\left(\\ln\\left| H \\right| + \\ln\\frac{1}{\\delta} \\right)\n",
    "$$\n",
    "\n",
    "provided that we can calculate the cardinality of $H$.  Note that we can define an integer-vertex triangle by choosing any three points out of the complete    \n",
    "(0-99)x(0-99) grid i.e. 10000 points.\n",
    "\n",
    "Since we are also calculating denerate triangles, we choose 3 points from $0,1, \\ldots, 10000$ **with** replacement.  This is given by \n",
    "\n",
    "$$\n",
    "{{10000+3-1}\\choose{3}} = \n",
    "{{10002}\\choose{3}} = 166,716,670,000\n",
    "$$\n",
    "\n",
    "$$\n",
    "\\quad \\Rightarrow \\quad \\log\\left| H \\right| \\approx 25.83\n",
    "$$\n",
    "\n",
    "\n",
    "Then, our bound becomes \n",
    "\n",
    "$$\n",
    "m \\geq \\frac{1}{\\epsilon}\\left(25.83 + \\ln\\frac{1}{\\delta} \\right) \n",
    "$$"
   ]
  },
  {
   "cell_type": "markdown",
   "metadata": {},
   "source": [
    "**A**:\n",
    "    \n",
    "With $\\epsilon = 0.15$ and $\\delta = 0.05$, our bound becomes \n",
    "\n",
    "$$\n",
    "m \\geq \\frac{1}{0.15}\\left(25.83 + \\ln\\frac{1}{0.05} \\right) \\approx 192.17\n",
    "$$\n",
    "\n",
    "which means we'll achieve our accuracy and confidence goals with $m \\geq 193$ training examples. "
   ]
  },
  {
   "cell_type": "code",
   "execution_count": null,
   "metadata": {},
   "outputs": [],
   "source": []
  }
 ],
 "metadata": {
  "kernelspec": {
   "display_name": "Python 3",
   "language": "python",
   "name": "python3"
  },
  "language_info": {
   "codemirror_mode": {
    "name": "ipython",
    "version": 3
   },
   "file_extension": ".py",
   "mimetype": "text/x-python",
   "name": "python",
   "nbconvert_exporter": "python",
   "pygments_lexer": "ipython3",
   "version": "3.5.2"
  }
 },
 "nbformat": 4,
 "nbformat_minor": 2
}
